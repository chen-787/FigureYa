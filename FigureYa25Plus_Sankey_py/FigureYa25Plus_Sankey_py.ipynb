{
 "cells": [
  {
   "cell_type": "markdown",
   "metadata": {},
   "source": [
    "# FigureYa25Plus_Sankey_py\n",
    "\n",
    "**Author:** Ying Ge"
   ]
  },
  {
   "cell_type": "code",
   "execution_count": 200,
   "metadata": {},
   "outputs": [
    {
     "data": {
      "text/markdown": [
       "**Date**: 2025-10-18"
      ],
      "text/plain": [
       "<IPython.core.display.Markdown object>"
      ]
     },
     "execution_count": 200,
     "metadata": {},
     "output_type": "execute_result"
    }
   ],
   "source": [
    "from datetime import datetime\n",
    "from IPython.display import Markdown\n",
    "\n",
    "current_date = datetime.now().strftime(\"%Y-%m-%d\")\n",
    "Markdown(f\"**Date**: {current_date}\")"
   ]
  },
  {
   "cell_type": "markdown",
   "metadata": {},
   "source": [
    "## Academic Citation\n",
    "If you use this code in your work or research, we kindly request that you cite our publication:\n",
    "\n",
    "Xiaofan Lu, et al. (2025). FigureYa: A Standardized Visualization Framework for Enhancing Biomedical Data Interpretation and Research Efficiency. iMetaMed. https://doi.org/10.1002/imm3.70005\n",
    "\n",
    "## 需求描述\n",
    "## Requirement Description\n",
    "\n",
    "使用plotly创建美观、交互式的Sankey图。\n",
    "\n",
    "Draw interactive sankey with plotly.\n",
    "\n",
    "![](example.png)\n",
    "\n",
    "出自<https://www.nature.com/articles/s41388-019-1026-9>\n",
    "\n",
    "Fig. 4 Identification of CNV-driven rRNA metabolism-related genes with clinical relevance.\n",
    "f, g Pie charts showing the Chi-squared test of clinicopathologic factors for PRE in CRC (f) and LUAD (g) tumor samples from the TCGA. \n",
    "\n",
    "## 应用场景\n",
    "## Application Scenarios\n",
    "一套数据集可能有多重属性，每层属性之间有交叉，就可以用这种图来展示。另外，以第一变量为参照，往后的多层变量均参考与第一变量的关系，从而展示第一变量的流向。\n",
    "\n",
    "A dataset may have multiple attributes, and when there is an overlap between each layer of attributes, this type of plot can be used to display it. Additionally, using the first variable as a reference, subsequent multi-layer variables are all based on their relationship with the first variable, thereby illustrating the flow of the first variable.\n",
    "\n",
    "## 环境设置\n",
    "## Environment Configuration"
   ]
  },
  {
   "cell_type": "code",
   "execution_count": 201,
   "metadata": {
    "vscode": {
     "languageId": "shellscript"
    }
   },
   "outputs": [],
   "source": [
    "#python --version\n",
    "#pip install jupyter ipykernel pandas numpy matplotlib seaborn\n",
    "#pip install scipy statsmodels plotly\n",
    "#pip install notebook nbconvert"
   ]
  },
  {
   "cell_type": "code",
   "execution_count": 202,
   "metadata": {},
   "outputs": [],
   "source": [
    "import pandas as pd\n",
    "import plotly.graph_objects as go\n",
    "import plotly.offline as pyo"
   ]
  },
  {
   "cell_type": "markdown",
   "metadata": {},
   "source": [
    "## 输入文件\n",
    "## Input files\n",
    "\n",
    "easy_input.txt，至少要有两列，想画出几列就提供几列数据。此处第一列是基因，第二列是突变，第三列是癌症亚型；想画更多层次关系就继续向后添加列。\n",
    "\n",
    "或者只写两列，第一列是miRNA，第二列是它的靶基因。\n",
    "\n",
    "easy_input.txt, there should be at least two columns; provide as many columns of data as you want to draw. Here the first column is the gene, the second is the mutation, and the third is the cancer subtype; keep adding columns backwards if you want to draw more hierarchical relationships.\n",
    "\n",
    "Or just write two columns, with the first column being the miRNA and the second column being its target gene.\n",
    "\n",
    "## 开始画图\n",
    "## Start plotting"
   ]
  },
  {
   "cell_type": "code",
   "execution_count": 203,
   "metadata": {},
   "outputs": [
    {
     "data": {
      "text/html": [
       "        <script type=\"text/javascript\">\n",
       "        window.PlotlyConfig = {MathJaxConfig: 'local'};\n",
       "        if (window.MathJax && window.MathJax.Hub && window.MathJax.Hub.Config) {window.MathJax.Hub.Config({SVG: {font: \"STIX-Web\"}});}\n",
       "        </script>\n",
       "        <script type=\"module\">import \"https://cdn.plot.ly/plotly-3.1.1.min\"</script>\n",
       "        "
      ]
     },
     "metadata": {},
     "output_type": "display_data"
    },
    {
     "name": "stdout",
     "output_type": "stream",
     "text": [
      "数据预览: | Data preview:\n",
      "  gene mutation subtype\n",
      "1   G4     mut1      S2\n",
      "2   G4     mut3      S3\n",
      "3   G3     mut5      S3\n",
      "4   G2     mut5      S2\n",
      "5   G8     mut4      S1\n",
      "=== 数据摘要 | Data Summary ===\n",
      "总记录数 | Total records: 100\n",
      "基因数量 | Number of genes: 9\n",
      "突变类型数量 | Number of mutation types: 6\n",
      "亚型数量 | Number of subtypes: 4\n",
      "\n",
      "各列的原始顺序 | Original order of each column:\n",
      "gene: ['G4', 'G3', 'G2', 'G8', 'G6', 'G9', 'G5', 'G7', 'G1']\n",
      "mutation: ['mut1', 'mut3', 'mut5', 'mut4', 'mut2', 'mut6']\n",
      "subtype: ['S2', 'S3', 'S1', 'S4']\n"
     ]
    }
   ],
   "source": [
    "# 设置 Plotly 在 Jupyter notebook 中显示 | Set up Plotly to display in Jupyter notebook\n",
    "pyo.init_notebook_mode(connected=True)\n",
    " \n",
    "# 读取数据 | Read data\n",
    "df = pd.read_csv('easy_input.txt', sep='\\t', index_col=0)\n",
    "print(\"数据预览: | Data preview:\")\n",
    "print(df.head())\n",
    " \n",
    "# 定义颜色方案 | Define color scheme\n",
    "colors = [\"#223D6C\",\"#D20A13\",\"#FFD121\",\"#088247\",\"#11AA4D\",\"#58CDD9\",\n",
    "          \"#7A142C\",\"#5D90BA\",\"#029149\",\"#431A3D\",\"#91612D\",\"#6E568C\",\n",
    "          \"#E0367A\",\"#D8D155\",\"#64495D\",\"#7CC767\"] * 3\n",
    " \n",
    "def get_ordered_unique_values(series):\n",
    "    \"\"\"\n",
    "    获取保持原始出现顺序的唯一值列表 | Get unique values list preserving original order\n",
    "    \"\"\"\n",
    "    seen = set()\n",
    "    result = []\n",
    "    for item in series:\n",
    "        if item not in seen:\n",
    "            seen.add(item)\n",
    "            result.append(item)\n",
    "    return result\n",
    " \n",
    "def create_sankey_plotly_simple(df, columns=None, title=\"Sankey Diagram\"):\n",
    "    \"\"\"\n",
    "    创建响应式的 Plotly 桑基图，保持原始顺序 | Create responsive Plotly Sankey diagram preserving original order\n",
    "    \"\"\"\n",
    "    if columns is None:\n",
    "        columns = df.columns.tolist()\n",
    "    \n",
    "    # 为每列按原始出现顺序获取唯一值 | Get unique values for each column in original order\n",
    "    column_categories = {}\n",
    "    for col in columns:\n",
    "        column_categories[col] = get_ordered_unique_values(df[col])\n",
    "    \n",
    "    # 创建全局节点列表 | Create global node list\n",
    "    all_categories = []\n",
    "    for col in columns:\n",
    "        all_categories.extend(column_categories[col])\n",
    "    \n",
    "    # 创建节点映射 | Create node mapping\n",
    "    node_dict = {cat: i for i, cat in enumerate(all_categories)}\n",
    "    \n",
    "    # 创建链接 | Create links\n",
    "    links = []\n",
    "    for i in range(len(columns) - 1):\n",
    "        source_col = columns[i]\n",
    "        target_col = columns[i + 1]\n",
    "        \n",
    "        # 计算每个组合的频次 | Calculate frequency for each combination\n",
    "        combo_counts = df.groupby([source_col, target_col], sort=False).size().reset_index(name='count')\n",
    "        \n",
    "        for _, row in combo_counts.iterrows():\n",
    "            source_idx = node_dict[row[source_col]]\n",
    "            target_idx = node_dict[row[target_col]]\n",
    "            value = row['count']\n",
    "            \n",
    "            links.append({\n",
    "                'source': source_idx,\n",
    "                'target': target_idx,\n",
    "                'value': value\n",
    "            })\n",
    "    \n",
    "    # 为节点分配颜色 | Assign colors to nodes\n",
    "    node_colors = []\n",
    "    color_idx = 0\n",
    "    for col in columns:\n",
    "        for cat in column_categories[col]:\n",
    "            node_colors.append(colors[color_idx % len(colors)])\n",
    "            color_idx += 1\n",
    "    \n",
    "    # 创建半透明的链接颜色 | Create semi-transparent link colors\n",
    "    link_colors = []\n",
    "    for link in links:\n",
    "        # 使用源节点的颜色，但添加透明度 | Use source node color with transparency\n",
    "        source_color = node_colors[link['source']]\n",
    "        # 将十六进制颜色转换为 rgba | Convert hex color to rgba\n",
    "        hex_color = source_color.lstrip('#')\n",
    "        rgb = tuple(int(hex_color[i:i+2], 16) for i in (0, 2, 4))\n",
    "        rgba_color = f'rgba({rgb[0]}, {rgb[1]}, {rgb[2]}, 0.4)'\n",
    "        link_colors.append(rgba_color)\n",
    "    \n",
    "    # 创建 Plotly 桑基图 | Create Plotly Sankey diagram\n",
    "    fig = go.Figure(data=[go.Sankey(\n",
    "        node=dict(\n",
    "            pad=15,\n",
    "            thickness=20,\n",
    "            line=dict(color=\"black\", width=0.5),\n",
    "            label=all_categories,\n",
    "            color=node_colors\n",
    "        ),\n",
    "        link=dict(\n",
    "            source=[link['source'] for link in links],\n",
    "            target=[link['target'] for link in links],\n",
    "            value=[link['value'] for link in links],\n",
    "            color=link_colors\n",
    "        )\n",
    "    )])\n",
    "    \n",
    "    # 设置布局，优化在 notebook 中的显示 | Set layout optimized for notebook display\n",
    "    fig.update_layout(\n",
    "        title=dict(\n",
    "            text=title,\n",
    "            x=0.5,  # 标题居中 | Center title\n",
    "            font=dict(size=16)\n",
    "        ),\n",
    "        font_size=12,\n",
    "        # 为 notebook 显示设置合适的尺寸 | Set appropriate size for notebook display\n",
    "        width=None,   # 让它自适应 notebook 宽度 | Let it adapt to notebook width\n",
    "        height=500,   # 设置一个合理的高度 | Set reasonable height\n",
    "        margin=dict(\n",
    "            l=20,   # 左边距 | Left margin\n",
    "            r=20,   # 右边距 | Right margin\n",
    "            t=60,   # 上边距 | Top margin\n",
    "            b=20    # 下边距 | Bottom margin\n",
    "        )\n",
    "    )\n",
    "    \n",
    "    return fig\n",
    " \n",
    "def print_data_summary(df):\n",
    "    \"\"\"\n",
    "    打印数据摘要信息 | Print data summary information\n",
    "    \"\"\"\n",
    "    print(\"=== 数据摘要 | Data Summary ===\")\n",
    "    print(f\"总记录数 | Total records: {len(df)}\")\n",
    "    print(f\"基因数量 | Number of genes: {df['gene'].nunique()}\")\n",
    "    print(f\"突变类型数量 | Number of mutation types: {df['mutation'].nunique()}\")\n",
    "    print(f\"亚型数量 | Number of subtypes: {df['subtype'].nunique()}\")\n",
    "    \n",
    "    print(\"\\n各列的原始顺序 | Original order of each column:\")\n",
    "    for col in df.columns:\n",
    "        unique_vals = get_ordered_unique_values(df[col])\n",
    "        print(f\"{col}: {unique_vals}\")\n",
    " \n",
    "# 执行分析和绘图 | Execute analysis and plotting\n",
    "print_data_summary(df)"
   ]
  },
  {
   "cell_type": "code",
   "execution_count": 204,
   "metadata": {},
   "outputs": [
    {
     "name": "stdout",
     "output_type": "stream",
     "text": [
      "创建完整的桑基图... | Creating complete Sankey diagram...\n"
     ]
    },
    {
     "data": {
      "application/vnd.plotly.v1+json": {
       "config": {
        "plotlyServerURL": "https://plot.ly"
       },
       "data": [
        {
         "link": {
          "color": [
           "rgba(34, 61, 108, 0.4)",
           "rgba(34, 61, 108, 0.4)",
           "rgba(210, 10, 19, 0.4)",
           "rgba(255, 209, 33, 0.4)",
           "rgba(8, 130, 71, 0.4)",
           "rgba(8, 130, 71, 0.4)",
           "rgba(17, 170, 77, 0.4)",
           "rgba(34, 61, 108, 0.4)",
           "rgba(88, 205, 217, 0.4)",
           "rgba(122, 20, 44, 0.4)",
           "rgba(210, 10, 19, 0.4)",
           "rgba(8, 130, 71, 0.4)",
           "rgba(93, 144, 186, 0.4)",
           "rgba(17, 170, 77, 0.4)",
           "rgba(122, 20, 44, 0.4)",
           "rgba(8, 130, 71, 0.4)",
           "rgba(93, 144, 186, 0.4)",
           "rgba(88, 205, 217, 0.4)",
           "rgba(255, 209, 33, 0.4)",
           "rgba(8, 130, 71, 0.4)",
           "rgba(2, 145, 73, 0.4)",
           "rgba(122, 20, 44, 0.4)",
           "rgba(210, 10, 19, 0.4)",
           "rgba(122, 20, 44, 0.4)",
           "rgba(2, 145, 73, 0.4)",
           "rgba(255, 209, 33, 0.4)",
           "rgba(88, 205, 217, 0.4)",
           "rgba(2, 145, 73, 0.4)",
           "rgba(122, 20, 44, 0.4)",
           "rgba(255, 209, 33, 0.4)",
           "rgba(210, 10, 19, 0.4)",
           "rgba(210, 10, 19, 0.4)",
           "rgba(34, 61, 108, 0.4)",
           "rgba(93, 144, 186, 0.4)",
           "rgba(17, 170, 77, 0.4)",
           "rgba(93, 144, 186, 0.4)",
           "rgba(2, 145, 73, 0.4)",
           "rgba(17, 170, 77, 0.4)",
           "rgba(2, 145, 73, 0.4)",
           "rgba(34, 61, 108, 0.4)",
           "rgba(17, 170, 77, 0.4)",
           "rgba(88, 205, 217, 0.4)",
           "rgba(67, 26, 61, 0.4)",
           "rgba(145, 97, 45, 0.4)",
           "rgba(110, 86, 140, 0.4)",
           "rgba(110, 86, 140, 0.4)",
           "rgba(224, 54, 122, 0.4)",
           "rgba(216, 209, 85, 0.4)",
           "rgba(110, 86, 140, 0.4)",
           "rgba(216, 209, 85, 0.4)",
           "rgba(100, 73, 93, 0.4)",
           "rgba(224, 54, 122, 0.4)",
           "rgba(145, 97, 45, 0.4)",
           "rgba(145, 97, 45, 0.4)",
           "rgba(110, 86, 140, 0.4)",
           "rgba(216, 209, 85, 0.4)",
           "rgba(100, 73, 93, 0.4)",
           "rgba(224, 54, 122, 0.4)",
           "rgba(216, 209, 85, 0.4)",
           "rgba(224, 54, 122, 0.4)",
           "rgba(67, 26, 61, 0.4)",
           "rgba(67, 26, 61, 0.4)",
           "rgba(100, 73, 93, 0.4)"
          ],
          "source": [
           0,
           0,
           1,
           2,
           3,
           3,
           4,
           0,
           5,
           6,
           1,
           3,
           7,
           4,
           6,
           3,
           7,
           5,
           2,
           3,
           8,
           6,
           1,
           6,
           8,
           2,
           5,
           8,
           6,
           2,
           1,
           1,
           0,
           7,
           4,
           7,
           8,
           4,
           8,
           0,
           4,
           5,
           9,
           10,
           11,
           11,
           12,
           13,
           11,
           13,
           14,
           12,
           10,
           10,
           11,
           13,
           14,
           12,
           13,
           12,
           9,
           9,
           14
          ],
          "target": [
           9,
           10,
           11,
           11,
           12,
           13,
           11,
           13,
           14,
           13,
           13,
           11,
           12,
           10,
           10,
           10,
           10,
           10,
           9,
           9,
           12,
           14,
           14,
           12,
           14,
           12,
           13,
           13,
           11,
           10,
           10,
           12,
           12,
           11,
           9,
           13,
           10,
           13,
           11,
           11,
           12,
           9,
           15,
           16,
           16,
           15,
           17,
           16,
           18,
           18,
           15,
           16,
           18,
           15,
           17,
           15,
           16,
           18,
           17,
           15,
           16,
           18,
           17
          ],
          "value": [
           7,
           2,
           1,
           4,
           2,
           4,
           6,
           4,
           2,
           3,
           4,
           2,
           4,
           4,
           2,
           2,
           2,
           1,
           1,
           2,
           1,
           1,
           2,
           3,
           1,
           2,
           1,
           1,
           3,
           4,
           2,
           3,
           3,
           2,
           2,
           2,
           1,
           2,
           2,
           1,
           1,
           1,
           3,
           8,
           7,
           8,
           6,
           11,
           3,
           5,
           3,
           9,
           4,
           8,
           3,
           3,
           2,
           2,
           2,
           2,
           7,
           3,
           1
          ]
         },
         "node": {
          "color": [
           "#223D6C",
           "#D20A13",
           "#FFD121",
           "#088247",
           "#11AA4D",
           "#58CDD9",
           "#7A142C",
           "#5D90BA",
           "#029149",
           "#431A3D",
           "#91612D",
           "#6E568C",
           "#E0367A",
           "#D8D155",
           "#64495D",
           "#7CC767",
           "#223D6C",
           "#D20A13",
           "#FFD121"
          ],
          "label": [
           "G4",
           "G3",
           "G2",
           "G8",
           "G6",
           "G9",
           "G5",
           "G7",
           "G1",
           "mut1",
           "mut3",
           "mut5",
           "mut4",
           "mut2",
           "mut6",
           "S2",
           "S3",
           "S1",
           "S4"
          ],
          "line": {
           "color": "black",
           "width": 0.5
          },
          "pad": 15,
          "thickness": 20
         },
         "type": "sankey"
        }
       ],
       "layout": {
        "font": {
         "size": 12
        },
        "height": 500,
        "margin": {
         "b": 20,
         "l": 20,
         "r": 20,
         "t": 60
        },
        "template": {
         "data": {
          "bar": [
           {
            "error_x": {
             "color": "#2a3f5f"
            },
            "error_y": {
             "color": "#2a3f5f"
            },
            "marker": {
             "line": {
              "color": "#E5ECF6",
              "width": 0.5
             },
             "pattern": {
              "fillmode": "overlay",
              "size": 10,
              "solidity": 0.2
             }
            },
            "type": "bar"
           }
          ],
          "barpolar": [
           {
            "marker": {
             "line": {
              "color": "#E5ECF6",
              "width": 0.5
             },
             "pattern": {
              "fillmode": "overlay",
              "size": 10,
              "solidity": 0.2
             }
            },
            "type": "barpolar"
           }
          ],
          "carpet": [
           {
            "aaxis": {
             "endlinecolor": "#2a3f5f",
             "gridcolor": "white",
             "linecolor": "white",
             "minorgridcolor": "white",
             "startlinecolor": "#2a3f5f"
            },
            "baxis": {
             "endlinecolor": "#2a3f5f",
             "gridcolor": "white",
             "linecolor": "white",
             "minorgridcolor": "white",
             "startlinecolor": "#2a3f5f"
            },
            "type": "carpet"
           }
          ],
          "choropleth": [
           {
            "colorbar": {
             "outlinewidth": 0,
             "ticks": ""
            },
            "type": "choropleth"
           }
          ],
          "contour": [
           {
            "colorbar": {
             "outlinewidth": 0,
             "ticks": ""
            },
            "colorscale": [
             [
              0,
              "#0d0887"
             ],
             [
              0.1111111111111111,
              "#46039f"
             ],
             [
              0.2222222222222222,
              "#7201a8"
             ],
             [
              0.3333333333333333,
              "#9c179e"
             ],
             [
              0.4444444444444444,
              "#bd3786"
             ],
             [
              0.5555555555555556,
              "#d8576b"
             ],
             [
              0.6666666666666666,
              "#ed7953"
             ],
             [
              0.7777777777777778,
              "#fb9f3a"
             ],
             [
              0.8888888888888888,
              "#fdca26"
             ],
             [
              1,
              "#f0f921"
             ]
            ],
            "type": "contour"
           }
          ],
          "contourcarpet": [
           {
            "colorbar": {
             "outlinewidth": 0,
             "ticks": ""
            },
            "type": "contourcarpet"
           }
          ],
          "heatmap": [
           {
            "colorbar": {
             "outlinewidth": 0,
             "ticks": ""
            },
            "colorscale": [
             [
              0,
              "#0d0887"
             ],
             [
              0.1111111111111111,
              "#46039f"
             ],
             [
              0.2222222222222222,
              "#7201a8"
             ],
             [
              0.3333333333333333,
              "#9c179e"
             ],
             [
              0.4444444444444444,
              "#bd3786"
             ],
             [
              0.5555555555555556,
              "#d8576b"
             ],
             [
              0.6666666666666666,
              "#ed7953"
             ],
             [
              0.7777777777777778,
              "#fb9f3a"
             ],
             [
              0.8888888888888888,
              "#fdca26"
             ],
             [
              1,
              "#f0f921"
             ]
            ],
            "type": "heatmap"
           }
          ],
          "histogram": [
           {
            "marker": {
             "pattern": {
              "fillmode": "overlay",
              "size": 10,
              "solidity": 0.2
             }
            },
            "type": "histogram"
           }
          ],
          "histogram2d": [
           {
            "colorbar": {
             "outlinewidth": 0,
             "ticks": ""
            },
            "colorscale": [
             [
              0,
              "#0d0887"
             ],
             [
              0.1111111111111111,
              "#46039f"
             ],
             [
              0.2222222222222222,
              "#7201a8"
             ],
             [
              0.3333333333333333,
              "#9c179e"
             ],
             [
              0.4444444444444444,
              "#bd3786"
             ],
             [
              0.5555555555555556,
              "#d8576b"
             ],
             [
              0.6666666666666666,
              "#ed7953"
             ],
             [
              0.7777777777777778,
              "#fb9f3a"
             ],
             [
              0.8888888888888888,
              "#fdca26"
             ],
             [
              1,
              "#f0f921"
             ]
            ],
            "type": "histogram2d"
           }
          ],
          "histogram2dcontour": [
           {
            "colorbar": {
             "outlinewidth": 0,
             "ticks": ""
            },
            "colorscale": [
             [
              0,
              "#0d0887"
             ],
             [
              0.1111111111111111,
              "#46039f"
             ],
             [
              0.2222222222222222,
              "#7201a8"
             ],
             [
              0.3333333333333333,
              "#9c179e"
             ],
             [
              0.4444444444444444,
              "#bd3786"
             ],
             [
              0.5555555555555556,
              "#d8576b"
             ],
             [
              0.6666666666666666,
              "#ed7953"
             ],
             [
              0.7777777777777778,
              "#fb9f3a"
             ],
             [
              0.8888888888888888,
              "#fdca26"
             ],
             [
              1,
              "#f0f921"
             ]
            ],
            "type": "histogram2dcontour"
           }
          ],
          "mesh3d": [
           {
            "colorbar": {
             "outlinewidth": 0,
             "ticks": ""
            },
            "type": "mesh3d"
           }
          ],
          "parcoords": [
           {
            "line": {
             "colorbar": {
              "outlinewidth": 0,
              "ticks": ""
             }
            },
            "type": "parcoords"
           }
          ],
          "pie": [
           {
            "automargin": true,
            "type": "pie"
           }
          ],
          "scatter": [
           {
            "fillpattern": {
             "fillmode": "overlay",
             "size": 10,
             "solidity": 0.2
            },
            "type": "scatter"
           }
          ],
          "scatter3d": [
           {
            "line": {
             "colorbar": {
              "outlinewidth": 0,
              "ticks": ""
             }
            },
            "marker": {
             "colorbar": {
              "outlinewidth": 0,
              "ticks": ""
             }
            },
            "type": "scatter3d"
           }
          ],
          "scattercarpet": [
           {
            "marker": {
             "colorbar": {
              "outlinewidth": 0,
              "ticks": ""
             }
            },
            "type": "scattercarpet"
           }
          ],
          "scattergeo": [
           {
            "marker": {
             "colorbar": {
              "outlinewidth": 0,
              "ticks": ""
             }
            },
            "type": "scattergeo"
           }
          ],
          "scattergl": [
           {
            "marker": {
             "colorbar": {
              "outlinewidth": 0,
              "ticks": ""
             }
            },
            "type": "scattergl"
           }
          ],
          "scattermap": [
           {
            "marker": {
             "colorbar": {
              "outlinewidth": 0,
              "ticks": ""
             }
            },
            "type": "scattermap"
           }
          ],
          "scattermapbox": [
           {
            "marker": {
             "colorbar": {
              "outlinewidth": 0,
              "ticks": ""
             }
            },
            "type": "scattermapbox"
           }
          ],
          "scatterpolar": [
           {
            "marker": {
             "colorbar": {
              "outlinewidth": 0,
              "ticks": ""
             }
            },
            "type": "scatterpolar"
           }
          ],
          "scatterpolargl": [
           {
            "marker": {
             "colorbar": {
              "outlinewidth": 0,
              "ticks": ""
             }
            },
            "type": "scatterpolargl"
           }
          ],
          "scatterternary": [
           {
            "marker": {
             "colorbar": {
              "outlinewidth": 0,
              "ticks": ""
             }
            },
            "type": "scatterternary"
           }
          ],
          "surface": [
           {
            "colorbar": {
             "outlinewidth": 0,
             "ticks": ""
            },
            "colorscale": [
             [
              0,
              "#0d0887"
             ],
             [
              0.1111111111111111,
              "#46039f"
             ],
             [
              0.2222222222222222,
              "#7201a8"
             ],
             [
              0.3333333333333333,
              "#9c179e"
             ],
             [
              0.4444444444444444,
              "#bd3786"
             ],
             [
              0.5555555555555556,
              "#d8576b"
             ],
             [
              0.6666666666666666,
              "#ed7953"
             ],
             [
              0.7777777777777778,
              "#fb9f3a"
             ],
             [
              0.8888888888888888,
              "#fdca26"
             ],
             [
              1,
              "#f0f921"
             ]
            ],
            "type": "surface"
           }
          ],
          "table": [
           {
            "cells": {
             "fill": {
              "color": "#EBF0F8"
             },
             "line": {
              "color": "white"
             }
            },
            "header": {
             "fill": {
              "color": "#C8D4E3"
             },
             "line": {
              "color": "white"
             }
            },
            "type": "table"
           }
          ]
         },
         "layout": {
          "annotationdefaults": {
           "arrowcolor": "#2a3f5f",
           "arrowhead": 0,
           "arrowwidth": 1
          },
          "autotypenumbers": "strict",
          "coloraxis": {
           "colorbar": {
            "outlinewidth": 0,
            "ticks": ""
           }
          },
          "colorscale": {
           "diverging": [
            [
             0,
             "#8e0152"
            ],
            [
             0.1,
             "#c51b7d"
            ],
            [
             0.2,
             "#de77ae"
            ],
            [
             0.3,
             "#f1b6da"
            ],
            [
             0.4,
             "#fde0ef"
            ],
            [
             0.5,
             "#f7f7f7"
            ],
            [
             0.6,
             "#e6f5d0"
            ],
            [
             0.7,
             "#b8e186"
            ],
            [
             0.8,
             "#7fbc41"
            ],
            [
             0.9,
             "#4d9221"
            ],
            [
             1,
             "#276419"
            ]
           ],
           "sequential": [
            [
             0,
             "#0d0887"
            ],
            [
             0.1111111111111111,
             "#46039f"
            ],
            [
             0.2222222222222222,
             "#7201a8"
            ],
            [
             0.3333333333333333,
             "#9c179e"
            ],
            [
             0.4444444444444444,
             "#bd3786"
            ],
            [
             0.5555555555555556,
             "#d8576b"
            ],
            [
             0.6666666666666666,
             "#ed7953"
            ],
            [
             0.7777777777777778,
             "#fb9f3a"
            ],
            [
             0.8888888888888888,
             "#fdca26"
            ],
            [
             1,
             "#f0f921"
            ]
           ],
           "sequentialminus": [
            [
             0,
             "#0d0887"
            ],
            [
             0.1111111111111111,
             "#46039f"
            ],
            [
             0.2222222222222222,
             "#7201a8"
            ],
            [
             0.3333333333333333,
             "#9c179e"
            ],
            [
             0.4444444444444444,
             "#bd3786"
            ],
            [
             0.5555555555555556,
             "#d8576b"
            ],
            [
             0.6666666666666666,
             "#ed7953"
            ],
            [
             0.7777777777777778,
             "#fb9f3a"
            ],
            [
             0.8888888888888888,
             "#fdca26"
            ],
            [
             1,
             "#f0f921"
            ]
           ]
          },
          "colorway": [
           "#636efa",
           "#EF553B",
           "#00cc96",
           "#ab63fa",
           "#FFA15A",
           "#19d3f3",
           "#FF6692",
           "#B6E880",
           "#FF97FF",
           "#FECB52"
          ],
          "font": {
           "color": "#2a3f5f"
          },
          "geo": {
           "bgcolor": "white",
           "lakecolor": "white",
           "landcolor": "#E5ECF6",
           "showlakes": true,
           "showland": true,
           "subunitcolor": "white"
          },
          "hoverlabel": {
           "align": "left"
          },
          "hovermode": "closest",
          "mapbox": {
           "style": "light"
          },
          "paper_bgcolor": "white",
          "plot_bgcolor": "#E5ECF6",
          "polar": {
           "angularaxis": {
            "gridcolor": "white",
            "linecolor": "white",
            "ticks": ""
           },
           "bgcolor": "#E5ECF6",
           "radialaxis": {
            "gridcolor": "white",
            "linecolor": "white",
            "ticks": ""
           }
          },
          "scene": {
           "xaxis": {
            "backgroundcolor": "#E5ECF6",
            "gridcolor": "white",
            "gridwidth": 2,
            "linecolor": "white",
            "showbackground": true,
            "ticks": "",
            "zerolinecolor": "white"
           },
           "yaxis": {
            "backgroundcolor": "#E5ECF6",
            "gridcolor": "white",
            "gridwidth": 2,
            "linecolor": "white",
            "showbackground": true,
            "ticks": "",
            "zerolinecolor": "white"
           },
           "zaxis": {
            "backgroundcolor": "#E5ECF6",
            "gridcolor": "white",
            "gridwidth": 2,
            "linecolor": "white",
            "showbackground": true,
            "ticks": "",
            "zerolinecolor": "white"
           }
          },
          "shapedefaults": {
           "line": {
            "color": "#2a3f5f"
           }
          },
          "ternary": {
           "aaxis": {
            "gridcolor": "white",
            "linecolor": "white",
            "ticks": ""
           },
           "baxis": {
            "gridcolor": "white",
            "linecolor": "white",
            "ticks": ""
           },
           "bgcolor": "#E5ECF6",
           "caxis": {
            "gridcolor": "white",
            "linecolor": "white",
            "ticks": ""
           }
          },
          "title": {
           "x": 0.05
          },
          "xaxis": {
           "automargin": true,
           "gridcolor": "white",
           "linecolor": "white",
           "ticks": "",
           "title": {
            "standoff": 15
           },
           "zerolinecolor": "white",
           "zerolinewidth": 2
          },
          "yaxis": {
           "automargin": true,
           "gridcolor": "white",
           "linecolor": "white",
           "ticks": "",
           "title": {
            "standoff": 15
           },
           "zerolinecolor": "white",
           "zerolinewidth": 2
          }
         }
        },
        "title": {
         "font": {
          "size": 16
         },
         "text": "Gene → Mutation → Subtype Flow",
         "x": 0.5
        }
       }
      },
      "text/html": [
       "<div>            <script src=\"https://cdnjs.cloudflare.com/ajax/libs/mathjax/2.7.5/MathJax.js?config=TeX-AMS-MML_SVG\"></script><script type=\"text/javascript\">if (window.MathJax && window.MathJax.Hub && window.MathJax.Hub.Config) {window.MathJax.Hub.Config({SVG: {font: \"STIX-Web\"}});}</script>                <script type=\"text/javascript\">window.PlotlyConfig = {MathJaxConfig: 'local'};</script>\n",
       "        <script charset=\"utf-8\" src=\"https://cdn.plot.ly/plotly-3.1.1.min.js\" integrity=\"sha256-HUEFyfiTnZJxCxur99FjbKYTvKSzwDaD3/x5TqHpFu4=\" crossorigin=\"anonymous\"></script>                <div id=\"158e46ee-aeb2-41dc-b98b-a1c96df4a9f7\" class=\"plotly-graph-div\" style=\"height:500px; width:100%;\"></div>            <script type=\"text/javascript\">                window.PLOTLYENV=window.PLOTLYENV || {};                                if (document.getElementById(\"158e46ee-aeb2-41dc-b98b-a1c96df4a9f7\")) {                    Plotly.newPlot(                        \"158e46ee-aeb2-41dc-b98b-a1c96df4a9f7\",                        [{\"link\":{\"color\":[\"rgba(34, 61, 108, 0.4)\",\"rgba(34, 61, 108, 0.4)\",\"rgba(210, 10, 19, 0.4)\",\"rgba(255, 209, 33, 0.4)\",\"rgba(8, 130, 71, 0.4)\",\"rgba(8, 130, 71, 0.4)\",\"rgba(17, 170, 77, 0.4)\",\"rgba(34, 61, 108, 0.4)\",\"rgba(88, 205, 217, 0.4)\",\"rgba(122, 20, 44, 0.4)\",\"rgba(210, 10, 19, 0.4)\",\"rgba(8, 130, 71, 0.4)\",\"rgba(93, 144, 186, 0.4)\",\"rgba(17, 170, 77, 0.4)\",\"rgba(122, 20, 44, 0.4)\",\"rgba(8, 130, 71, 0.4)\",\"rgba(93, 144, 186, 0.4)\",\"rgba(88, 205, 217, 0.4)\",\"rgba(255, 209, 33, 0.4)\",\"rgba(8, 130, 71, 0.4)\",\"rgba(2, 145, 73, 0.4)\",\"rgba(122, 20, 44, 0.4)\",\"rgba(210, 10, 19, 0.4)\",\"rgba(122, 20, 44, 0.4)\",\"rgba(2, 145, 73, 0.4)\",\"rgba(255, 209, 33, 0.4)\",\"rgba(88, 205, 217, 0.4)\",\"rgba(2, 145, 73, 0.4)\",\"rgba(122, 20, 44, 0.4)\",\"rgba(255, 209, 33, 0.4)\",\"rgba(210, 10, 19, 0.4)\",\"rgba(210, 10, 19, 0.4)\",\"rgba(34, 61, 108, 0.4)\",\"rgba(93, 144, 186, 0.4)\",\"rgba(17, 170, 77, 0.4)\",\"rgba(93, 144, 186, 0.4)\",\"rgba(2, 145, 73, 0.4)\",\"rgba(17, 170, 77, 0.4)\",\"rgba(2, 145, 73, 0.4)\",\"rgba(34, 61, 108, 0.4)\",\"rgba(17, 170, 77, 0.4)\",\"rgba(88, 205, 217, 0.4)\",\"rgba(67, 26, 61, 0.4)\",\"rgba(145, 97, 45, 0.4)\",\"rgba(110, 86, 140, 0.4)\",\"rgba(110, 86, 140, 0.4)\",\"rgba(224, 54, 122, 0.4)\",\"rgba(216, 209, 85, 0.4)\",\"rgba(110, 86, 140, 0.4)\",\"rgba(216, 209, 85, 0.4)\",\"rgba(100, 73, 93, 0.4)\",\"rgba(224, 54, 122, 0.4)\",\"rgba(145, 97, 45, 0.4)\",\"rgba(145, 97, 45, 0.4)\",\"rgba(110, 86, 140, 0.4)\",\"rgba(216, 209, 85, 0.4)\",\"rgba(100, 73, 93, 0.4)\",\"rgba(224, 54, 122, 0.4)\",\"rgba(216, 209, 85, 0.4)\",\"rgba(224, 54, 122, 0.4)\",\"rgba(67, 26, 61, 0.4)\",\"rgba(67, 26, 61, 0.4)\",\"rgba(100, 73, 93, 0.4)\"],\"source\":[0,0,1,2,3,3,4,0,5,6,1,3,7,4,6,3,7,5,2,3,8,6,1,6,8,2,5,8,6,2,1,1,0,7,4,7,8,4,8,0,4,5,9,10,11,11,12,13,11,13,14,12,10,10,11,13,14,12,13,12,9,9,14],\"target\":[9,10,11,11,12,13,11,13,14,13,13,11,12,10,10,10,10,10,9,9,12,14,14,12,14,12,13,13,11,10,10,12,12,11,9,13,10,13,11,11,12,9,15,16,16,15,17,16,18,18,15,16,18,15,17,15,16,18,17,15,16,18,17],\"value\":[7,2,1,4,2,4,6,4,2,3,4,2,4,4,2,2,2,1,1,2,1,1,2,3,1,2,1,1,3,4,2,3,3,2,2,2,1,2,2,1,1,1,3,8,7,8,6,11,3,5,3,9,4,8,3,3,2,2,2,2,7,3,1]},\"node\":{\"color\":[\"#223D6C\",\"#D20A13\",\"#FFD121\",\"#088247\",\"#11AA4D\",\"#58CDD9\",\"#7A142C\",\"#5D90BA\",\"#029149\",\"#431A3D\",\"#91612D\",\"#6E568C\",\"#E0367A\",\"#D8D155\",\"#64495D\",\"#7CC767\",\"#223D6C\",\"#D20A13\",\"#FFD121\"],\"label\":[\"G4\",\"G3\",\"G2\",\"G8\",\"G6\",\"G9\",\"G5\",\"G7\",\"G1\",\"mut1\",\"mut3\",\"mut5\",\"mut4\",\"mut2\",\"mut6\",\"S2\",\"S3\",\"S1\",\"S4\"],\"line\":{\"color\":\"black\",\"width\":0.5},\"pad\":15,\"thickness\":20},\"type\":\"sankey\"}],                        {\"template\":{\"data\":{\"histogram2dcontour\":[{\"type\":\"histogram2dcontour\",\"colorbar\":{\"outlinewidth\":0,\"ticks\":\"\"},\"colorscale\":[[0.0,\"#0d0887\"],[0.1111111111111111,\"#46039f\"],[0.2222222222222222,\"#7201a8\"],[0.3333333333333333,\"#9c179e\"],[0.4444444444444444,\"#bd3786\"],[0.5555555555555556,\"#d8576b\"],[0.6666666666666666,\"#ed7953\"],[0.7777777777777778,\"#fb9f3a\"],[0.8888888888888888,\"#fdca26\"],[1.0,\"#f0f921\"]]}],\"choropleth\":[{\"type\":\"choropleth\",\"colorbar\":{\"outlinewidth\":0,\"ticks\":\"\"}}],\"histogram2d\":[{\"type\":\"histogram2d\",\"colorbar\":{\"outlinewidth\":0,\"ticks\":\"\"},\"colorscale\":[[0.0,\"#0d0887\"],[0.1111111111111111,\"#46039f\"],[0.2222222222222222,\"#7201a8\"],[0.3333333333333333,\"#9c179e\"],[0.4444444444444444,\"#bd3786\"],[0.5555555555555556,\"#d8576b\"],[0.6666666666666666,\"#ed7953\"],[0.7777777777777778,\"#fb9f3a\"],[0.8888888888888888,\"#fdca26\"],[1.0,\"#f0f921\"]]}],\"heatmap\":[{\"type\":\"heatmap\",\"colorbar\":{\"outlinewidth\":0,\"ticks\":\"\"},\"colorscale\":[[0.0,\"#0d0887\"],[0.1111111111111111,\"#46039f\"],[0.2222222222222222,\"#7201a8\"],[0.3333333333333333,\"#9c179e\"],[0.4444444444444444,\"#bd3786\"],[0.5555555555555556,\"#d8576b\"],[0.6666666666666666,\"#ed7953\"],[0.7777777777777778,\"#fb9f3a\"],[0.8888888888888888,\"#fdca26\"],[1.0,\"#f0f921\"]]}],\"contourcarpet\":[{\"type\":\"contourcarpet\",\"colorbar\":{\"outlinewidth\":0,\"ticks\":\"\"}}],\"contour\":[{\"type\":\"contour\",\"colorbar\":{\"outlinewidth\":0,\"ticks\":\"\"},\"colorscale\":[[0.0,\"#0d0887\"],[0.1111111111111111,\"#46039f\"],[0.2222222222222222,\"#7201a8\"],[0.3333333333333333,\"#9c179e\"],[0.4444444444444444,\"#bd3786\"],[0.5555555555555556,\"#d8576b\"],[0.6666666666666666,\"#ed7953\"],[0.7777777777777778,\"#fb9f3a\"],[0.8888888888888888,\"#fdca26\"],[1.0,\"#f0f921\"]]}],\"surface\":[{\"type\":\"surface\",\"colorbar\":{\"outlinewidth\":0,\"ticks\":\"\"},\"colorscale\":[[0.0,\"#0d0887\"],[0.1111111111111111,\"#46039f\"],[0.2222222222222222,\"#7201a8\"],[0.3333333333333333,\"#9c179e\"],[0.4444444444444444,\"#bd3786\"],[0.5555555555555556,\"#d8576b\"],[0.6666666666666666,\"#ed7953\"],[0.7777777777777778,\"#fb9f3a\"],[0.8888888888888888,\"#fdca26\"],[1.0,\"#f0f921\"]]}],\"mesh3d\":[{\"type\":\"mesh3d\",\"colorbar\":{\"outlinewidth\":0,\"ticks\":\"\"}}],\"scatter\":[{\"fillpattern\":{\"fillmode\":\"overlay\",\"size\":10,\"solidity\":0.2},\"type\":\"scatter\"}],\"parcoords\":[{\"type\":\"parcoords\",\"line\":{\"colorbar\":{\"outlinewidth\":0,\"ticks\":\"\"}}}],\"scatterpolargl\":[{\"type\":\"scatterpolargl\",\"marker\":{\"colorbar\":{\"outlinewidth\":0,\"ticks\":\"\"}}}],\"bar\":[{\"error_x\":{\"color\":\"#2a3f5f\"},\"error_y\":{\"color\":\"#2a3f5f\"},\"marker\":{\"line\":{\"color\":\"#E5ECF6\",\"width\":0.5},\"pattern\":{\"fillmode\":\"overlay\",\"size\":10,\"solidity\":0.2}},\"type\":\"bar\"}],\"scattergeo\":[{\"type\":\"scattergeo\",\"marker\":{\"colorbar\":{\"outlinewidth\":0,\"ticks\":\"\"}}}],\"scatterpolar\":[{\"type\":\"scatterpolar\",\"marker\":{\"colorbar\":{\"outlinewidth\":0,\"ticks\":\"\"}}}],\"histogram\":[{\"marker\":{\"pattern\":{\"fillmode\":\"overlay\",\"size\":10,\"solidity\":0.2}},\"type\":\"histogram\"}],\"scattergl\":[{\"type\":\"scattergl\",\"marker\":{\"colorbar\":{\"outlinewidth\":0,\"ticks\":\"\"}}}],\"scatter3d\":[{\"type\":\"scatter3d\",\"line\":{\"colorbar\":{\"outlinewidth\":0,\"ticks\":\"\"}},\"marker\":{\"colorbar\":{\"outlinewidth\":0,\"ticks\":\"\"}}}],\"scattermap\":[{\"type\":\"scattermap\",\"marker\":{\"colorbar\":{\"outlinewidth\":0,\"ticks\":\"\"}}}],\"scattermapbox\":[{\"type\":\"scattermapbox\",\"marker\":{\"colorbar\":{\"outlinewidth\":0,\"ticks\":\"\"}}}],\"scatterternary\":[{\"type\":\"scatterternary\",\"marker\":{\"colorbar\":{\"outlinewidth\":0,\"ticks\":\"\"}}}],\"scattercarpet\":[{\"type\":\"scattercarpet\",\"marker\":{\"colorbar\":{\"outlinewidth\":0,\"ticks\":\"\"}}}],\"carpet\":[{\"aaxis\":{\"endlinecolor\":\"#2a3f5f\",\"gridcolor\":\"white\",\"linecolor\":\"white\",\"minorgridcolor\":\"white\",\"startlinecolor\":\"#2a3f5f\"},\"baxis\":{\"endlinecolor\":\"#2a3f5f\",\"gridcolor\":\"white\",\"linecolor\":\"white\",\"minorgridcolor\":\"white\",\"startlinecolor\":\"#2a3f5f\"},\"type\":\"carpet\"}],\"table\":[{\"cells\":{\"fill\":{\"color\":\"#EBF0F8\"},\"line\":{\"color\":\"white\"}},\"header\":{\"fill\":{\"color\":\"#C8D4E3\"},\"line\":{\"color\":\"white\"}},\"type\":\"table\"}],\"barpolar\":[{\"marker\":{\"line\":{\"color\":\"#E5ECF6\",\"width\":0.5},\"pattern\":{\"fillmode\":\"overlay\",\"size\":10,\"solidity\":0.2}},\"type\":\"barpolar\"}],\"pie\":[{\"automargin\":true,\"type\":\"pie\"}]},\"layout\":{\"autotypenumbers\":\"strict\",\"colorway\":[\"#636efa\",\"#EF553B\",\"#00cc96\",\"#ab63fa\",\"#FFA15A\",\"#19d3f3\",\"#FF6692\",\"#B6E880\",\"#FF97FF\",\"#FECB52\"],\"font\":{\"color\":\"#2a3f5f\"},\"hovermode\":\"closest\",\"hoverlabel\":{\"align\":\"left\"},\"paper_bgcolor\":\"white\",\"plot_bgcolor\":\"#E5ECF6\",\"polar\":{\"bgcolor\":\"#E5ECF6\",\"angularaxis\":{\"gridcolor\":\"white\",\"linecolor\":\"white\",\"ticks\":\"\"},\"radialaxis\":{\"gridcolor\":\"white\",\"linecolor\":\"white\",\"ticks\":\"\"}},\"ternary\":{\"bgcolor\":\"#E5ECF6\",\"aaxis\":{\"gridcolor\":\"white\",\"linecolor\":\"white\",\"ticks\":\"\"},\"baxis\":{\"gridcolor\":\"white\",\"linecolor\":\"white\",\"ticks\":\"\"},\"caxis\":{\"gridcolor\":\"white\",\"linecolor\":\"white\",\"ticks\":\"\"}},\"coloraxis\":{\"colorbar\":{\"outlinewidth\":0,\"ticks\":\"\"}},\"colorscale\":{\"sequential\":[[0.0,\"#0d0887\"],[0.1111111111111111,\"#46039f\"],[0.2222222222222222,\"#7201a8\"],[0.3333333333333333,\"#9c179e\"],[0.4444444444444444,\"#bd3786\"],[0.5555555555555556,\"#d8576b\"],[0.6666666666666666,\"#ed7953\"],[0.7777777777777778,\"#fb9f3a\"],[0.8888888888888888,\"#fdca26\"],[1.0,\"#f0f921\"]],\"sequentialminus\":[[0.0,\"#0d0887\"],[0.1111111111111111,\"#46039f\"],[0.2222222222222222,\"#7201a8\"],[0.3333333333333333,\"#9c179e\"],[0.4444444444444444,\"#bd3786\"],[0.5555555555555556,\"#d8576b\"],[0.6666666666666666,\"#ed7953\"],[0.7777777777777778,\"#fb9f3a\"],[0.8888888888888888,\"#fdca26\"],[1.0,\"#f0f921\"]],\"diverging\":[[0,\"#8e0152\"],[0.1,\"#c51b7d\"],[0.2,\"#de77ae\"],[0.3,\"#f1b6da\"],[0.4,\"#fde0ef\"],[0.5,\"#f7f7f7\"],[0.6,\"#e6f5d0\"],[0.7,\"#b8e186\"],[0.8,\"#7fbc41\"],[0.9,\"#4d9221\"],[1,\"#276419\"]]},\"xaxis\":{\"gridcolor\":\"white\",\"linecolor\":\"white\",\"ticks\":\"\",\"title\":{\"standoff\":15},\"zerolinecolor\":\"white\",\"automargin\":true,\"zerolinewidth\":2},\"yaxis\":{\"gridcolor\":\"white\",\"linecolor\":\"white\",\"ticks\":\"\",\"title\":{\"standoff\":15},\"zerolinecolor\":\"white\",\"automargin\":true,\"zerolinewidth\":2},\"scene\":{\"xaxis\":{\"backgroundcolor\":\"#E5ECF6\",\"gridcolor\":\"white\",\"linecolor\":\"white\",\"showbackground\":true,\"ticks\":\"\",\"zerolinecolor\":\"white\",\"gridwidth\":2},\"yaxis\":{\"backgroundcolor\":\"#E5ECF6\",\"gridcolor\":\"white\",\"linecolor\":\"white\",\"showbackground\":true,\"ticks\":\"\",\"zerolinecolor\":\"white\",\"gridwidth\":2},\"zaxis\":{\"backgroundcolor\":\"#E5ECF6\",\"gridcolor\":\"white\",\"linecolor\":\"white\",\"showbackground\":true,\"ticks\":\"\",\"zerolinecolor\":\"white\",\"gridwidth\":2}},\"shapedefaults\":{\"line\":{\"color\":\"#2a3f5f\"}},\"annotationdefaults\":{\"arrowcolor\":\"#2a3f5f\",\"arrowhead\":0,\"arrowwidth\":1},\"geo\":{\"bgcolor\":\"white\",\"landcolor\":\"#E5ECF6\",\"subunitcolor\":\"white\",\"showland\":true,\"showlakes\":true,\"lakecolor\":\"white\"},\"title\":{\"x\":0.05},\"mapbox\":{\"style\":\"light\"}}},\"title\":{\"font\":{\"size\":16},\"text\":\"Gene \\u2192 Mutation \\u2192 Subtype Flow\",\"x\":0.5},\"font\":{\"size\":12},\"margin\":{\"l\":20,\"r\":20,\"t\":60,\"b\":20},\"height\":500},                        {\"responsive\": true}                    ).then(function(){\n",
       "                            \n",
       "var gd = document.getElementById('158e46ee-aeb2-41dc-b98b-a1c96df4a9f7');\n",
       "var x = new MutationObserver(function (mutations, observer) {{\n",
       "        var display = window.getComputedStyle(gd).display;\n",
       "        if (!display || display === 'none') {{\n",
       "            console.log([gd, 'removed!']);\n",
       "            Plotly.purge(gd);\n",
       "            observer.disconnect();\n",
       "        }}\n",
       "}});\n",
       "\n",
       "// Listen for the removal of the full notebook cells\n",
       "var notebookContainer = gd.closest('#notebook-container');\n",
       "if (notebookContainer) {{\n",
       "    x.observe(notebookContainer, {childList: true});\n",
       "}}\n",
       "\n",
       "// Listen for the clearing of the current output cell\n",
       "var outputEl = gd.closest('.output');\n",
       "if (outputEl) {{\n",
       "    x.observe(outputEl, {childList: true});\n",
       "}}\n",
       "\n",
       "                        })                };            </script>        </div>"
      ]
     },
     "metadata": {},
     "output_type": "display_data"
    }
   ],
   "source": [
    "# 创建图形并在 notebook 中显示 | Create figures and display in notebook\n",
    "print(\"创建完整的桑基图... | Creating complete Sankey diagram...\")\n",
    "fig1 = create_sankey_plotly_simple(df, title=\"Gene → Mutation → Subtype Flow\")\n",
    "# 在 notebook 中显示图形 | Display figure in notebook\n",
    "fig1.show()"
   ]
  },
  {
   "cell_type": "code",
   "execution_count": 205,
   "metadata": {},
   "outputs": [
    {
     "name": "stdout",
     "output_type": "stream",
     "text": [
      "创建基因到亚型的直接流向图... | Creating direct flow diagram from gene to subtype...\n"
     ]
    },
    {
     "data": {
      "application/vnd.plotly.v1+json": {
       "config": {
        "plotlyServerURL": "https://plot.ly"
       },
       "data": [
        {
         "link": {
          "color": [
           "rgba(34, 61, 108, 0.4)",
           "rgba(34, 61, 108, 0.4)",
           "rgba(210, 10, 19, 0.4)",
           "rgba(255, 209, 33, 0.4)",
           "rgba(8, 130, 71, 0.4)",
           "rgba(8, 130, 71, 0.4)",
           "rgba(17, 170, 77, 0.4)",
           "rgba(17, 170, 77, 0.4)",
           "rgba(34, 61, 108, 0.4)",
           "rgba(88, 205, 217, 0.4)",
           "rgba(122, 20, 44, 0.4)",
           "rgba(93, 144, 186, 0.4)",
           "rgba(122, 20, 44, 0.4)",
           "rgba(8, 130, 71, 0.4)",
           "rgba(255, 209, 33, 0.4)",
           "rgba(93, 144, 186, 0.4)",
           "rgba(17, 170, 77, 0.4)",
           "rgba(8, 130, 71, 0.4)",
           "rgba(2, 145, 73, 0.4)",
           "rgba(122, 20, 44, 0.4)",
           "rgba(93, 144, 186, 0.4)",
           "rgba(255, 209, 33, 0.4)",
           "rgba(88, 205, 217, 0.4)",
           "rgba(93, 144, 186, 0.4)",
           "rgba(255, 209, 33, 0.4)",
           "rgba(210, 10, 19, 0.4)",
           "rgba(210, 10, 19, 0.4)",
           "rgba(34, 61, 108, 0.4)",
           "rgba(2, 145, 73, 0.4)",
           "rgba(2, 145, 73, 0.4)",
           "rgba(17, 170, 77, 0.4)",
           "rgba(88, 205, 217, 0.4)"
          ],
          "source": [
           0,
           0,
           1,
           2,
           3,
           3,
           4,
           4,
           0,
           5,
           6,
           7,
           6,
           3,
           2,
           7,
           4,
           3,
           8,
           6,
           7,
           2,
           5,
           7,
           2,
           1,
           1,
           0,
           8,
           8,
           4,
           5
          ],
          "target": [
           9,
           10,
           10,
           9,
           11,
           10,
           10,
           12,
           12,
           9,
           12,
           10,
           10,
           12,
           12,
           9,
           11,
           9,
           10,
           9,
           12,
           11,
           11,
           11,
           10,
           9,
           11,
           11,
           9,
           11,
           9,
           10
          ],
          "value": [
           5,
           8,
           8,
           3,
           2,
           5,
           9,
           3,
           3,
           2,
           3,
           2,
           5,
           3,
           2,
           4,
           1,
           2,
           3,
           4,
           3,
           3,
           2,
           1,
           3,
           3,
           1,
           1,
           2,
           1,
           2,
           1
          ]
         },
         "node": {
          "color": [
           "#223D6C",
           "#D20A13",
           "#FFD121",
           "#088247",
           "#11AA4D",
           "#58CDD9",
           "#7A142C",
           "#5D90BA",
           "#029149",
           "#431A3D",
           "#91612D",
           "#6E568C",
           "#E0367A"
          ],
          "label": [
           "G4",
           "G3",
           "G2",
           "G8",
           "G6",
           "G9",
           "G5",
           "G7",
           "G1",
           "S2",
           "S3",
           "S1",
           "S4"
          ],
          "line": {
           "color": "black",
           "width": 0.5
          },
          "pad": 15,
          "thickness": 20
         },
         "type": "sankey"
        }
       ],
       "layout": {
        "font": {
         "size": 12
        },
        "height": 500,
        "margin": {
         "b": 20,
         "l": 20,
         "r": 20,
         "t": 60
        },
        "template": {
         "data": {
          "bar": [
           {
            "error_x": {
             "color": "#2a3f5f"
            },
            "error_y": {
             "color": "#2a3f5f"
            },
            "marker": {
             "line": {
              "color": "#E5ECF6",
              "width": 0.5
             },
             "pattern": {
              "fillmode": "overlay",
              "size": 10,
              "solidity": 0.2
             }
            },
            "type": "bar"
           }
          ],
          "barpolar": [
           {
            "marker": {
             "line": {
              "color": "#E5ECF6",
              "width": 0.5
             },
             "pattern": {
              "fillmode": "overlay",
              "size": 10,
              "solidity": 0.2
             }
            },
            "type": "barpolar"
           }
          ],
          "carpet": [
           {
            "aaxis": {
             "endlinecolor": "#2a3f5f",
             "gridcolor": "white",
             "linecolor": "white",
             "minorgridcolor": "white",
             "startlinecolor": "#2a3f5f"
            },
            "baxis": {
             "endlinecolor": "#2a3f5f",
             "gridcolor": "white",
             "linecolor": "white",
             "minorgridcolor": "white",
             "startlinecolor": "#2a3f5f"
            },
            "type": "carpet"
           }
          ],
          "choropleth": [
           {
            "colorbar": {
             "outlinewidth": 0,
             "ticks": ""
            },
            "type": "choropleth"
           }
          ],
          "contour": [
           {
            "colorbar": {
             "outlinewidth": 0,
             "ticks": ""
            },
            "colorscale": [
             [
              0,
              "#0d0887"
             ],
             [
              0.1111111111111111,
              "#46039f"
             ],
             [
              0.2222222222222222,
              "#7201a8"
             ],
             [
              0.3333333333333333,
              "#9c179e"
             ],
             [
              0.4444444444444444,
              "#bd3786"
             ],
             [
              0.5555555555555556,
              "#d8576b"
             ],
             [
              0.6666666666666666,
              "#ed7953"
             ],
             [
              0.7777777777777778,
              "#fb9f3a"
             ],
             [
              0.8888888888888888,
              "#fdca26"
             ],
             [
              1,
              "#f0f921"
             ]
            ],
            "type": "contour"
           }
          ],
          "contourcarpet": [
           {
            "colorbar": {
             "outlinewidth": 0,
             "ticks": ""
            },
            "type": "contourcarpet"
           }
          ],
          "heatmap": [
           {
            "colorbar": {
             "outlinewidth": 0,
             "ticks": ""
            },
            "colorscale": [
             [
              0,
              "#0d0887"
             ],
             [
              0.1111111111111111,
              "#46039f"
             ],
             [
              0.2222222222222222,
              "#7201a8"
             ],
             [
              0.3333333333333333,
              "#9c179e"
             ],
             [
              0.4444444444444444,
              "#bd3786"
             ],
             [
              0.5555555555555556,
              "#d8576b"
             ],
             [
              0.6666666666666666,
              "#ed7953"
             ],
             [
              0.7777777777777778,
              "#fb9f3a"
             ],
             [
              0.8888888888888888,
              "#fdca26"
             ],
             [
              1,
              "#f0f921"
             ]
            ],
            "type": "heatmap"
           }
          ],
          "histogram": [
           {
            "marker": {
             "pattern": {
              "fillmode": "overlay",
              "size": 10,
              "solidity": 0.2
             }
            },
            "type": "histogram"
           }
          ],
          "histogram2d": [
           {
            "colorbar": {
             "outlinewidth": 0,
             "ticks": ""
            },
            "colorscale": [
             [
              0,
              "#0d0887"
             ],
             [
              0.1111111111111111,
              "#46039f"
             ],
             [
              0.2222222222222222,
              "#7201a8"
             ],
             [
              0.3333333333333333,
              "#9c179e"
             ],
             [
              0.4444444444444444,
              "#bd3786"
             ],
             [
              0.5555555555555556,
              "#d8576b"
             ],
             [
              0.6666666666666666,
              "#ed7953"
             ],
             [
              0.7777777777777778,
              "#fb9f3a"
             ],
             [
              0.8888888888888888,
              "#fdca26"
             ],
             [
              1,
              "#f0f921"
             ]
            ],
            "type": "histogram2d"
           }
          ],
          "histogram2dcontour": [
           {
            "colorbar": {
             "outlinewidth": 0,
             "ticks": ""
            },
            "colorscale": [
             [
              0,
              "#0d0887"
             ],
             [
              0.1111111111111111,
              "#46039f"
             ],
             [
              0.2222222222222222,
              "#7201a8"
             ],
             [
              0.3333333333333333,
              "#9c179e"
             ],
             [
              0.4444444444444444,
              "#bd3786"
             ],
             [
              0.5555555555555556,
              "#d8576b"
             ],
             [
              0.6666666666666666,
              "#ed7953"
             ],
             [
              0.7777777777777778,
              "#fb9f3a"
             ],
             [
              0.8888888888888888,
              "#fdca26"
             ],
             [
              1,
              "#f0f921"
             ]
            ],
            "type": "histogram2dcontour"
           }
          ],
          "mesh3d": [
           {
            "colorbar": {
             "outlinewidth": 0,
             "ticks": ""
            },
            "type": "mesh3d"
           }
          ],
          "parcoords": [
           {
            "line": {
             "colorbar": {
              "outlinewidth": 0,
              "ticks": ""
             }
            },
            "type": "parcoords"
           }
          ],
          "pie": [
           {
            "automargin": true,
            "type": "pie"
           }
          ],
          "scatter": [
           {
            "fillpattern": {
             "fillmode": "overlay",
             "size": 10,
             "solidity": 0.2
            },
            "type": "scatter"
           }
          ],
          "scatter3d": [
           {
            "line": {
             "colorbar": {
              "outlinewidth": 0,
              "ticks": ""
             }
            },
            "marker": {
             "colorbar": {
              "outlinewidth": 0,
              "ticks": ""
             }
            },
            "type": "scatter3d"
           }
          ],
          "scattercarpet": [
           {
            "marker": {
             "colorbar": {
              "outlinewidth": 0,
              "ticks": ""
             }
            },
            "type": "scattercarpet"
           }
          ],
          "scattergeo": [
           {
            "marker": {
             "colorbar": {
              "outlinewidth": 0,
              "ticks": ""
             }
            },
            "type": "scattergeo"
           }
          ],
          "scattergl": [
           {
            "marker": {
             "colorbar": {
              "outlinewidth": 0,
              "ticks": ""
             }
            },
            "type": "scattergl"
           }
          ],
          "scattermap": [
           {
            "marker": {
             "colorbar": {
              "outlinewidth": 0,
              "ticks": ""
             }
            },
            "type": "scattermap"
           }
          ],
          "scattermapbox": [
           {
            "marker": {
             "colorbar": {
              "outlinewidth": 0,
              "ticks": ""
             }
            },
            "type": "scattermapbox"
           }
          ],
          "scatterpolar": [
           {
            "marker": {
             "colorbar": {
              "outlinewidth": 0,
              "ticks": ""
             }
            },
            "type": "scatterpolar"
           }
          ],
          "scatterpolargl": [
           {
            "marker": {
             "colorbar": {
              "outlinewidth": 0,
              "ticks": ""
             }
            },
            "type": "scatterpolargl"
           }
          ],
          "scatterternary": [
           {
            "marker": {
             "colorbar": {
              "outlinewidth": 0,
              "ticks": ""
             }
            },
            "type": "scatterternary"
           }
          ],
          "surface": [
           {
            "colorbar": {
             "outlinewidth": 0,
             "ticks": ""
            },
            "colorscale": [
             [
              0,
              "#0d0887"
             ],
             [
              0.1111111111111111,
              "#46039f"
             ],
             [
              0.2222222222222222,
              "#7201a8"
             ],
             [
              0.3333333333333333,
              "#9c179e"
             ],
             [
              0.4444444444444444,
              "#bd3786"
             ],
             [
              0.5555555555555556,
              "#d8576b"
             ],
             [
              0.6666666666666666,
              "#ed7953"
             ],
             [
              0.7777777777777778,
              "#fb9f3a"
             ],
             [
              0.8888888888888888,
              "#fdca26"
             ],
             [
              1,
              "#f0f921"
             ]
            ],
            "type": "surface"
           }
          ],
          "table": [
           {
            "cells": {
             "fill": {
              "color": "#EBF0F8"
             },
             "line": {
              "color": "white"
             }
            },
            "header": {
             "fill": {
              "color": "#C8D4E3"
             },
             "line": {
              "color": "white"
             }
            },
            "type": "table"
           }
          ]
         },
         "layout": {
          "annotationdefaults": {
           "arrowcolor": "#2a3f5f",
           "arrowhead": 0,
           "arrowwidth": 1
          },
          "autotypenumbers": "strict",
          "coloraxis": {
           "colorbar": {
            "outlinewidth": 0,
            "ticks": ""
           }
          },
          "colorscale": {
           "diverging": [
            [
             0,
             "#8e0152"
            ],
            [
             0.1,
             "#c51b7d"
            ],
            [
             0.2,
             "#de77ae"
            ],
            [
             0.3,
             "#f1b6da"
            ],
            [
             0.4,
             "#fde0ef"
            ],
            [
             0.5,
             "#f7f7f7"
            ],
            [
             0.6,
             "#e6f5d0"
            ],
            [
             0.7,
             "#b8e186"
            ],
            [
             0.8,
             "#7fbc41"
            ],
            [
             0.9,
             "#4d9221"
            ],
            [
             1,
             "#276419"
            ]
           ],
           "sequential": [
            [
             0,
             "#0d0887"
            ],
            [
             0.1111111111111111,
             "#46039f"
            ],
            [
             0.2222222222222222,
             "#7201a8"
            ],
            [
             0.3333333333333333,
             "#9c179e"
            ],
            [
             0.4444444444444444,
             "#bd3786"
            ],
            [
             0.5555555555555556,
             "#d8576b"
            ],
            [
             0.6666666666666666,
             "#ed7953"
            ],
            [
             0.7777777777777778,
             "#fb9f3a"
            ],
            [
             0.8888888888888888,
             "#fdca26"
            ],
            [
             1,
             "#f0f921"
            ]
           ],
           "sequentialminus": [
            [
             0,
             "#0d0887"
            ],
            [
             0.1111111111111111,
             "#46039f"
            ],
            [
             0.2222222222222222,
             "#7201a8"
            ],
            [
             0.3333333333333333,
             "#9c179e"
            ],
            [
             0.4444444444444444,
             "#bd3786"
            ],
            [
             0.5555555555555556,
             "#d8576b"
            ],
            [
             0.6666666666666666,
             "#ed7953"
            ],
            [
             0.7777777777777778,
             "#fb9f3a"
            ],
            [
             0.8888888888888888,
             "#fdca26"
            ],
            [
             1,
             "#f0f921"
            ]
           ]
          },
          "colorway": [
           "#636efa",
           "#EF553B",
           "#00cc96",
           "#ab63fa",
           "#FFA15A",
           "#19d3f3",
           "#FF6692",
           "#B6E880",
           "#FF97FF",
           "#FECB52"
          ],
          "font": {
           "color": "#2a3f5f"
          },
          "geo": {
           "bgcolor": "white",
           "lakecolor": "white",
           "landcolor": "#E5ECF6",
           "showlakes": true,
           "showland": true,
           "subunitcolor": "white"
          },
          "hoverlabel": {
           "align": "left"
          },
          "hovermode": "closest",
          "mapbox": {
           "style": "light"
          },
          "paper_bgcolor": "white",
          "plot_bgcolor": "#E5ECF6",
          "polar": {
           "angularaxis": {
            "gridcolor": "white",
            "linecolor": "white",
            "ticks": ""
           },
           "bgcolor": "#E5ECF6",
           "radialaxis": {
            "gridcolor": "white",
            "linecolor": "white",
            "ticks": ""
           }
          },
          "scene": {
           "xaxis": {
            "backgroundcolor": "#E5ECF6",
            "gridcolor": "white",
            "gridwidth": 2,
            "linecolor": "white",
            "showbackground": true,
            "ticks": "",
            "zerolinecolor": "white"
           },
           "yaxis": {
            "backgroundcolor": "#E5ECF6",
            "gridcolor": "white",
            "gridwidth": 2,
            "linecolor": "white",
            "showbackground": true,
            "ticks": "",
            "zerolinecolor": "white"
           },
           "zaxis": {
            "backgroundcolor": "#E5ECF6",
            "gridcolor": "white",
            "gridwidth": 2,
            "linecolor": "white",
            "showbackground": true,
            "ticks": "",
            "zerolinecolor": "white"
           }
          },
          "shapedefaults": {
           "line": {
            "color": "#2a3f5f"
           }
          },
          "ternary": {
           "aaxis": {
            "gridcolor": "white",
            "linecolor": "white",
            "ticks": ""
           },
           "baxis": {
            "gridcolor": "white",
            "linecolor": "white",
            "ticks": ""
           },
           "bgcolor": "#E5ECF6",
           "caxis": {
            "gridcolor": "white",
            "linecolor": "white",
            "ticks": ""
           }
          },
          "title": {
           "x": 0.05
          },
          "xaxis": {
           "automargin": true,
           "gridcolor": "white",
           "linecolor": "white",
           "ticks": "",
           "title": {
            "standoff": 15
           },
           "zerolinecolor": "white",
           "zerolinewidth": 2
          },
          "yaxis": {
           "automargin": true,
           "gridcolor": "white",
           "linecolor": "white",
           "ticks": "",
           "title": {
            "standoff": 15
           },
           "zerolinecolor": "white",
           "zerolinewidth": 2
          }
         }
        },
        "title": {
         "font": {
          "size": 16
         },
         "text": "Gene → Subtype Direct Flow",
         "x": 0.5
        }
       }
      },
      "text/html": [
       "<div>            <script src=\"https://cdnjs.cloudflare.com/ajax/libs/mathjax/2.7.5/MathJax.js?config=TeX-AMS-MML_SVG\"></script><script type=\"text/javascript\">if (window.MathJax && window.MathJax.Hub && window.MathJax.Hub.Config) {window.MathJax.Hub.Config({SVG: {font: \"STIX-Web\"}});}</script>                <script type=\"text/javascript\">window.PlotlyConfig = {MathJaxConfig: 'local'};</script>\n",
       "        <script charset=\"utf-8\" src=\"https://cdn.plot.ly/plotly-3.1.1.min.js\" integrity=\"sha256-HUEFyfiTnZJxCxur99FjbKYTvKSzwDaD3/x5TqHpFu4=\" crossorigin=\"anonymous\"></script>                <div id=\"915fff76-aefc-4979-9a9c-c1231d6b7bc2\" class=\"plotly-graph-div\" style=\"height:500px; width:100%;\"></div>            <script type=\"text/javascript\">                window.PLOTLYENV=window.PLOTLYENV || {};                                if (document.getElementById(\"915fff76-aefc-4979-9a9c-c1231d6b7bc2\")) {                    Plotly.newPlot(                        \"915fff76-aefc-4979-9a9c-c1231d6b7bc2\",                        [{\"link\":{\"color\":[\"rgba(34, 61, 108, 0.4)\",\"rgba(34, 61, 108, 0.4)\",\"rgba(210, 10, 19, 0.4)\",\"rgba(255, 209, 33, 0.4)\",\"rgba(8, 130, 71, 0.4)\",\"rgba(8, 130, 71, 0.4)\",\"rgba(17, 170, 77, 0.4)\",\"rgba(17, 170, 77, 0.4)\",\"rgba(34, 61, 108, 0.4)\",\"rgba(88, 205, 217, 0.4)\",\"rgba(122, 20, 44, 0.4)\",\"rgba(93, 144, 186, 0.4)\",\"rgba(122, 20, 44, 0.4)\",\"rgba(8, 130, 71, 0.4)\",\"rgba(255, 209, 33, 0.4)\",\"rgba(93, 144, 186, 0.4)\",\"rgba(17, 170, 77, 0.4)\",\"rgba(8, 130, 71, 0.4)\",\"rgba(2, 145, 73, 0.4)\",\"rgba(122, 20, 44, 0.4)\",\"rgba(93, 144, 186, 0.4)\",\"rgba(255, 209, 33, 0.4)\",\"rgba(88, 205, 217, 0.4)\",\"rgba(93, 144, 186, 0.4)\",\"rgba(255, 209, 33, 0.4)\",\"rgba(210, 10, 19, 0.4)\",\"rgba(210, 10, 19, 0.4)\",\"rgba(34, 61, 108, 0.4)\",\"rgba(2, 145, 73, 0.4)\",\"rgba(2, 145, 73, 0.4)\",\"rgba(17, 170, 77, 0.4)\",\"rgba(88, 205, 217, 0.4)\"],\"source\":[0,0,1,2,3,3,4,4,0,5,6,7,6,3,2,7,4,3,8,6,7,2,5,7,2,1,1,0,8,8,4,5],\"target\":[9,10,10,9,11,10,10,12,12,9,12,10,10,12,12,9,11,9,10,9,12,11,11,11,10,9,11,11,9,11,9,10],\"value\":[5,8,8,3,2,5,9,3,3,2,3,2,5,3,2,4,1,2,3,4,3,3,2,1,3,3,1,1,2,1,2,1]},\"node\":{\"color\":[\"#223D6C\",\"#D20A13\",\"#FFD121\",\"#088247\",\"#11AA4D\",\"#58CDD9\",\"#7A142C\",\"#5D90BA\",\"#029149\",\"#431A3D\",\"#91612D\",\"#6E568C\",\"#E0367A\"],\"label\":[\"G4\",\"G3\",\"G2\",\"G8\",\"G6\",\"G9\",\"G5\",\"G7\",\"G1\",\"S2\",\"S3\",\"S1\",\"S4\"],\"line\":{\"color\":\"black\",\"width\":0.5},\"pad\":15,\"thickness\":20},\"type\":\"sankey\"}],                        {\"template\":{\"data\":{\"histogram2dcontour\":[{\"type\":\"histogram2dcontour\",\"colorbar\":{\"outlinewidth\":0,\"ticks\":\"\"},\"colorscale\":[[0.0,\"#0d0887\"],[0.1111111111111111,\"#46039f\"],[0.2222222222222222,\"#7201a8\"],[0.3333333333333333,\"#9c179e\"],[0.4444444444444444,\"#bd3786\"],[0.5555555555555556,\"#d8576b\"],[0.6666666666666666,\"#ed7953\"],[0.7777777777777778,\"#fb9f3a\"],[0.8888888888888888,\"#fdca26\"],[1.0,\"#f0f921\"]]}],\"choropleth\":[{\"type\":\"choropleth\",\"colorbar\":{\"outlinewidth\":0,\"ticks\":\"\"}}],\"histogram2d\":[{\"type\":\"histogram2d\",\"colorbar\":{\"outlinewidth\":0,\"ticks\":\"\"},\"colorscale\":[[0.0,\"#0d0887\"],[0.1111111111111111,\"#46039f\"],[0.2222222222222222,\"#7201a8\"],[0.3333333333333333,\"#9c179e\"],[0.4444444444444444,\"#bd3786\"],[0.5555555555555556,\"#d8576b\"],[0.6666666666666666,\"#ed7953\"],[0.7777777777777778,\"#fb9f3a\"],[0.8888888888888888,\"#fdca26\"],[1.0,\"#f0f921\"]]}],\"heatmap\":[{\"type\":\"heatmap\",\"colorbar\":{\"outlinewidth\":0,\"ticks\":\"\"},\"colorscale\":[[0.0,\"#0d0887\"],[0.1111111111111111,\"#46039f\"],[0.2222222222222222,\"#7201a8\"],[0.3333333333333333,\"#9c179e\"],[0.4444444444444444,\"#bd3786\"],[0.5555555555555556,\"#d8576b\"],[0.6666666666666666,\"#ed7953\"],[0.7777777777777778,\"#fb9f3a\"],[0.8888888888888888,\"#fdca26\"],[1.0,\"#f0f921\"]]}],\"contourcarpet\":[{\"type\":\"contourcarpet\",\"colorbar\":{\"outlinewidth\":0,\"ticks\":\"\"}}],\"contour\":[{\"type\":\"contour\",\"colorbar\":{\"outlinewidth\":0,\"ticks\":\"\"},\"colorscale\":[[0.0,\"#0d0887\"],[0.1111111111111111,\"#46039f\"],[0.2222222222222222,\"#7201a8\"],[0.3333333333333333,\"#9c179e\"],[0.4444444444444444,\"#bd3786\"],[0.5555555555555556,\"#d8576b\"],[0.6666666666666666,\"#ed7953\"],[0.7777777777777778,\"#fb9f3a\"],[0.8888888888888888,\"#fdca26\"],[1.0,\"#f0f921\"]]}],\"surface\":[{\"type\":\"surface\",\"colorbar\":{\"outlinewidth\":0,\"ticks\":\"\"},\"colorscale\":[[0.0,\"#0d0887\"],[0.1111111111111111,\"#46039f\"],[0.2222222222222222,\"#7201a8\"],[0.3333333333333333,\"#9c179e\"],[0.4444444444444444,\"#bd3786\"],[0.5555555555555556,\"#d8576b\"],[0.6666666666666666,\"#ed7953\"],[0.7777777777777778,\"#fb9f3a\"],[0.8888888888888888,\"#fdca26\"],[1.0,\"#f0f921\"]]}],\"mesh3d\":[{\"type\":\"mesh3d\",\"colorbar\":{\"outlinewidth\":0,\"ticks\":\"\"}}],\"scatter\":[{\"fillpattern\":{\"fillmode\":\"overlay\",\"size\":10,\"solidity\":0.2},\"type\":\"scatter\"}],\"parcoords\":[{\"type\":\"parcoords\",\"line\":{\"colorbar\":{\"outlinewidth\":0,\"ticks\":\"\"}}}],\"scatterpolargl\":[{\"type\":\"scatterpolargl\",\"marker\":{\"colorbar\":{\"outlinewidth\":0,\"ticks\":\"\"}}}],\"bar\":[{\"error_x\":{\"color\":\"#2a3f5f\"},\"error_y\":{\"color\":\"#2a3f5f\"},\"marker\":{\"line\":{\"color\":\"#E5ECF6\",\"width\":0.5},\"pattern\":{\"fillmode\":\"overlay\",\"size\":10,\"solidity\":0.2}},\"type\":\"bar\"}],\"scattergeo\":[{\"type\":\"scattergeo\",\"marker\":{\"colorbar\":{\"outlinewidth\":0,\"ticks\":\"\"}}}],\"scatterpolar\":[{\"type\":\"scatterpolar\",\"marker\":{\"colorbar\":{\"outlinewidth\":0,\"ticks\":\"\"}}}],\"histogram\":[{\"marker\":{\"pattern\":{\"fillmode\":\"overlay\",\"size\":10,\"solidity\":0.2}},\"type\":\"histogram\"}],\"scattergl\":[{\"type\":\"scattergl\",\"marker\":{\"colorbar\":{\"outlinewidth\":0,\"ticks\":\"\"}}}],\"scatter3d\":[{\"type\":\"scatter3d\",\"line\":{\"colorbar\":{\"outlinewidth\":0,\"ticks\":\"\"}},\"marker\":{\"colorbar\":{\"outlinewidth\":0,\"ticks\":\"\"}}}],\"scattermap\":[{\"type\":\"scattermap\",\"marker\":{\"colorbar\":{\"outlinewidth\":0,\"ticks\":\"\"}}}],\"scattermapbox\":[{\"type\":\"scattermapbox\",\"marker\":{\"colorbar\":{\"outlinewidth\":0,\"ticks\":\"\"}}}],\"scatterternary\":[{\"type\":\"scatterternary\",\"marker\":{\"colorbar\":{\"outlinewidth\":0,\"ticks\":\"\"}}}],\"scattercarpet\":[{\"type\":\"scattercarpet\",\"marker\":{\"colorbar\":{\"outlinewidth\":0,\"ticks\":\"\"}}}],\"carpet\":[{\"aaxis\":{\"endlinecolor\":\"#2a3f5f\",\"gridcolor\":\"white\",\"linecolor\":\"white\",\"minorgridcolor\":\"white\",\"startlinecolor\":\"#2a3f5f\"},\"baxis\":{\"endlinecolor\":\"#2a3f5f\",\"gridcolor\":\"white\",\"linecolor\":\"white\",\"minorgridcolor\":\"white\",\"startlinecolor\":\"#2a3f5f\"},\"type\":\"carpet\"}],\"table\":[{\"cells\":{\"fill\":{\"color\":\"#EBF0F8\"},\"line\":{\"color\":\"white\"}},\"header\":{\"fill\":{\"color\":\"#C8D4E3\"},\"line\":{\"color\":\"white\"}},\"type\":\"table\"}],\"barpolar\":[{\"marker\":{\"line\":{\"color\":\"#E5ECF6\",\"width\":0.5},\"pattern\":{\"fillmode\":\"overlay\",\"size\":10,\"solidity\":0.2}},\"type\":\"barpolar\"}],\"pie\":[{\"automargin\":true,\"type\":\"pie\"}]},\"layout\":{\"autotypenumbers\":\"strict\",\"colorway\":[\"#636efa\",\"#EF553B\",\"#00cc96\",\"#ab63fa\",\"#FFA15A\",\"#19d3f3\",\"#FF6692\",\"#B6E880\",\"#FF97FF\",\"#FECB52\"],\"font\":{\"color\":\"#2a3f5f\"},\"hovermode\":\"closest\",\"hoverlabel\":{\"align\":\"left\"},\"paper_bgcolor\":\"white\",\"plot_bgcolor\":\"#E5ECF6\",\"polar\":{\"bgcolor\":\"#E5ECF6\",\"angularaxis\":{\"gridcolor\":\"white\",\"linecolor\":\"white\",\"ticks\":\"\"},\"radialaxis\":{\"gridcolor\":\"white\",\"linecolor\":\"white\",\"ticks\":\"\"}},\"ternary\":{\"bgcolor\":\"#E5ECF6\",\"aaxis\":{\"gridcolor\":\"white\",\"linecolor\":\"white\",\"ticks\":\"\"},\"baxis\":{\"gridcolor\":\"white\",\"linecolor\":\"white\",\"ticks\":\"\"},\"caxis\":{\"gridcolor\":\"white\",\"linecolor\":\"white\",\"ticks\":\"\"}},\"coloraxis\":{\"colorbar\":{\"outlinewidth\":0,\"ticks\":\"\"}},\"colorscale\":{\"sequential\":[[0.0,\"#0d0887\"],[0.1111111111111111,\"#46039f\"],[0.2222222222222222,\"#7201a8\"],[0.3333333333333333,\"#9c179e\"],[0.4444444444444444,\"#bd3786\"],[0.5555555555555556,\"#d8576b\"],[0.6666666666666666,\"#ed7953\"],[0.7777777777777778,\"#fb9f3a\"],[0.8888888888888888,\"#fdca26\"],[1.0,\"#f0f921\"]],\"sequentialminus\":[[0.0,\"#0d0887\"],[0.1111111111111111,\"#46039f\"],[0.2222222222222222,\"#7201a8\"],[0.3333333333333333,\"#9c179e\"],[0.4444444444444444,\"#bd3786\"],[0.5555555555555556,\"#d8576b\"],[0.6666666666666666,\"#ed7953\"],[0.7777777777777778,\"#fb9f3a\"],[0.8888888888888888,\"#fdca26\"],[1.0,\"#f0f921\"]],\"diverging\":[[0,\"#8e0152\"],[0.1,\"#c51b7d\"],[0.2,\"#de77ae\"],[0.3,\"#f1b6da\"],[0.4,\"#fde0ef\"],[0.5,\"#f7f7f7\"],[0.6,\"#e6f5d0\"],[0.7,\"#b8e186\"],[0.8,\"#7fbc41\"],[0.9,\"#4d9221\"],[1,\"#276419\"]]},\"xaxis\":{\"gridcolor\":\"white\",\"linecolor\":\"white\",\"ticks\":\"\",\"title\":{\"standoff\":15},\"zerolinecolor\":\"white\",\"automargin\":true,\"zerolinewidth\":2},\"yaxis\":{\"gridcolor\":\"white\",\"linecolor\":\"white\",\"ticks\":\"\",\"title\":{\"standoff\":15},\"zerolinecolor\":\"white\",\"automargin\":true,\"zerolinewidth\":2},\"scene\":{\"xaxis\":{\"backgroundcolor\":\"#E5ECF6\",\"gridcolor\":\"white\",\"linecolor\":\"white\",\"showbackground\":true,\"ticks\":\"\",\"zerolinecolor\":\"white\",\"gridwidth\":2},\"yaxis\":{\"backgroundcolor\":\"#E5ECF6\",\"gridcolor\":\"white\",\"linecolor\":\"white\",\"showbackground\":true,\"ticks\":\"\",\"zerolinecolor\":\"white\",\"gridwidth\":2},\"zaxis\":{\"backgroundcolor\":\"#E5ECF6\",\"gridcolor\":\"white\",\"linecolor\":\"white\",\"showbackground\":true,\"ticks\":\"\",\"zerolinecolor\":\"white\",\"gridwidth\":2}},\"shapedefaults\":{\"line\":{\"color\":\"#2a3f5f\"}},\"annotationdefaults\":{\"arrowcolor\":\"#2a3f5f\",\"arrowhead\":0,\"arrowwidth\":1},\"geo\":{\"bgcolor\":\"white\",\"landcolor\":\"#E5ECF6\",\"subunitcolor\":\"white\",\"showland\":true,\"showlakes\":true,\"lakecolor\":\"white\"},\"title\":{\"x\":0.05},\"mapbox\":{\"style\":\"light\"}}},\"title\":{\"font\":{\"size\":16},\"text\":\"Gene \\u2192 Subtype Direct Flow\",\"x\":0.5},\"font\":{\"size\":12},\"margin\":{\"l\":20,\"r\":20,\"t\":60,\"b\":20},\"height\":500},                        {\"responsive\": true}                    ).then(function(){\n",
       "                            \n",
       "var gd = document.getElementById('915fff76-aefc-4979-9a9c-c1231d6b7bc2');\n",
       "var x = new MutationObserver(function (mutations, observer) {{\n",
       "        var display = window.getComputedStyle(gd).display;\n",
       "        if (!display || display === 'none') {{\n",
       "            console.log([gd, 'removed!']);\n",
       "            Plotly.purge(gd);\n",
       "            observer.disconnect();\n",
       "        }}\n",
       "}});\n",
       "\n",
       "// Listen for the removal of the full notebook cells\n",
       "var notebookContainer = gd.closest('#notebook-container');\n",
       "if (notebookContainer) {{\n",
       "    x.observe(notebookContainer, {childList: true});\n",
       "}}\n",
       "\n",
       "// Listen for the clearing of the current output cell\n",
       "var outputEl = gd.closest('.output');\n",
       "if (outputEl) {{\n",
       "    x.observe(outputEl, {childList: true});\n",
       "}}\n",
       "\n",
       "                        })                };            </script>        </div>"
      ]
     },
     "metadata": {},
     "output_type": "display_data"
    }
   ],
   "source": [
    "print(\"创建基因到亚型的直接流向图... | Creating direct flow diagram from gene to subtype...\")\n",
    "fig2 = create_sankey_plotly_simple(df[['gene', 'subtype']], \n",
    "                                 title=\"Gene → Subtype Direct Flow\")\n",
    "# 在 notebook 中显示图形 | Display figure in notebook\n",
    "fig2.show()"
   ]
  },
  {
   "cell_type": "code",
   "execution_count": 206,
   "metadata": {},
   "outputs": [
    {
     "name": "stdout",
     "output_type": "stream",
     "text": [
      "保存为独立的 HTML 文件... | Saving as standalone HTML files...\n",
      "=== 保存完成 | Save Complete ===\n",
      "- 图形已在 notebook 中显示 | Figures displayed in notebook\n",
      "- 同时保存了独立的 HTML 文件 | Standalone HTML files also saved\n"
     ]
    }
   ],
   "source": [
    "# 可选：如果你还想保存 HTML 文件 | Optional: if you want to save HTML files\n",
    "print(\"保存为独立的 HTML 文件... | Saving as standalone HTML files...\")\n",
    " \n",
    "config = {\n",
    "    'responsive': True,\n",
    "    'displayModeBar': True,\n",
    "    'displaylogo': False\n",
    "}\n",
    " \n",
    "fig1.write_html(\"sankey_full.html\", config=config)\n",
    "fig2.write_html(\"sankey_direct.html\", config=config)\n",
    " \n",
    "print(\"=== 保存完成 | Save Complete ===\")\n",
    "print(\"- 图形已在 notebook 中显示 | Figures displayed in notebook\")\n",
    "print(\"- 同时保存了独立的 HTML 文件 | Standalone HTML files also saved\")"
   ]
  },
  {
   "cell_type": "markdown",
   "metadata": {},
   "source": [
    "## Session Info"
   ]
  },
  {
   "cell_type": "code",
   "execution_count": 207,
   "metadata": {},
   "outputs": [
    {
     "name": "stdout",
     "output_type": "stream",
     "text": [
      "{'commit_hash': '48b00eb07',\n",
      " 'commit_source': 'installation',\n",
      " 'default_encoding': 'utf-8',\n",
      " 'ipython_path': '/Users/air/Library/Python/3.14/lib/python/site-packages/IPython',\n",
      " 'ipython_version': '9.6.0',\n",
      " 'os_name': 'posix',\n",
      " 'platform': 'macOS-14.8.1-x86_64-i386-64bit-Mach-O',\n",
      " 'sys_executable': '/usr/local/bin/python',\n",
      " 'sys_platform': 'darwin',\n",
      " 'sys_version': '3.14.0 (v3.14.0:ebf955df7a8, Oct  7 2025, 08:20:14) [Clang '\n",
      "                '16.0.0 (clang-1600.0.26.6)]'}\n",
      "[NbConvertApp] Converting notebook FigureYa25Plus_Sankey_py.ipynb to html\n",
      "[NbConvertApp] Writing 330254 bytes to FigureYa25Plus_Sankey_py.html\n"
     ]
    }
   ],
   "source": [
    "import IPython\n",
    "print(IPython.sys_info())\n",
    "\n",
    "!jupyter nbconvert --to html FigureYa25Plus_Sankey_py.ipynb"
   ]
  }
 ],
 "metadata": {
  "kernelspec": {
   "display_name": "Python 3",
   "language": "python",
   "name": "python3"
  },
  "language_info": {
   "codemirror_mode": {
    "name": "ipython",
    "version": 3
   },
   "file_extension": ".py",
   "mimetype": "text/x-python",
   "name": "python",
   "nbconvert_exporter": "python",
   "pygments_lexer": "ipython3",
   "version": "3.14.0"
  }
 },
 "nbformat": 4,
 "nbformat_minor": 2
}
